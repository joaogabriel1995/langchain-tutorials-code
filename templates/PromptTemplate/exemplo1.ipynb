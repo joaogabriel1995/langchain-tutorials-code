{
 "cells": [
  {
   "cell_type": "code",
   "execution_count": 7,
   "metadata": {},
   "outputs": [],
   "source": [
    "#exemplo1.py\n",
    "from langchain import PromptTemplate\n",
    "from langchain_openai import ChatOpenAI\n",
    "import os\n",
    "from dotenv import load_dotenv  "
   ]
  },
  {
   "cell_type": "code",
   "execution_count": 8,
   "metadata": {},
   "outputs": [],
   "source": [
    "load_dotenv(dotenv_path=\".env\")\n",
    "OPENAI_MODEL_NAME = os.getenv('OPENAI_MODEL_NAME')"
   ]
  },
  {
   "cell_type": "code",
   "execution_count": 9,
   "metadata": {},
   "outputs": [],
   "source": [
    "llm = ChatOpenAI(temperature=0, model=OPENAI_MODEL_NAME)"
   ]
  },
  {
   "cell_type": "code",
   "execution_count": 10,
   "metadata": {},
   "outputs": [],
   "source": [
    "\n",
    "template_text = '''Você é um programador altamente experiente, com mais de 20 anos de carreira em \n",
    "desenvolvimento de software. Seu conhecimento abrange profundamente as melhores práticas de engenharia \n",
    "de software, incluindo os princípios SOLID, Clean Architecture, TDD, e design patterns. Sua experiência \n",
    "inclui linguagens como {programming_language}, e você tem um rigoroso compromisso com a qualidade do código, \n",
    "mantendo-o sustentável, legível e de fácil manutenção. Sempre prioriza a implementação de código limpo, \n",
    "modular e escalável. Considere também as tecnologias e frameworks que você domina, como {technologies}, \n",
    "ao elaborar a solução. Por favor, explique a solução em detalhes, considerando as seguintes diretrizes: \n",
    "Explique como sua solução mantém conformidade com os princípios SOLID.\n",
    "\n",
    "{question}\n",
    "'''"
   ]
  },
  {
   "cell_type": "code",
   "execution_count": 11,
   "metadata": {},
   "outputs": [],
   "source": [
    "prompt = PromptTemplate(input_variables=[\"programming_language\", \"technologies\", \"question\"], template=template_text)"
   ]
  },
  {
   "cell_type": "code",
   "execution_count": 12,
   "metadata": {},
   "outputs": [],
   "source": [
    "question = '''\n",
    "function calculate(a: number, b: number, op: string) {\n",
    "  if (op === \"add\") return a + b;\n",
    "  else if (op === \"subtract\") return a - b;\n",
    "  else if (op === \"multiply\") return a * b;\n",
    "  else if (op === \"divide\") return b !== 0 ? a / b : NaN;\n",
    "  else return NaN;\n",
    "}\n",
    "const result = calculate(5, 3, \"add\");\n",
    "console.log(\"Result:\", result);\n",
    "\n",
    "\n",
    "Como poderia melhorar a qualidade, legibilidade desse codigo acima.\n",
    "'''"
   ]
  },
  {
   "cell_type": "code",
   "execution_count": 13,
   "metadata": {},
   "outputs": [],
   "source": [
    "message = prompt.format(programming_language=\"typescript\", technologies=\"NestJS\", question=question)"
   ]
  },
  {
   "cell_type": "code",
   "execution_count": 14,
   "metadata": {},
   "outputs": [
    {
     "name": "stdout",
     "output_type": "stream",
     "text": [
      "content='Para melhorar a qualidade e a legibilidade do código fornecido, podemos aplicar os princípios SOLID, especialmente o Princípio da Responsabilidade Única (Single Responsibility Principle) e o Princípio da Inversão de Dependência (Dependency Inversion Principle). Além disso, podemos utilizar o padrão de projeto Strategy para encapsular as operações matemáticas. Isso tornará o código mais modular, escalável e fácil de manter.\\n\\n### Refatoração do Código\\n\\n1. **Criar uma Interface para Operações**: Vamos definir uma interface que todas as operações matemáticas devem implementar.\\n\\n2. **Implementar Classes para Cada Operação**: Cada operação (adição, subtração, multiplicação, divisão) será encapsulada em sua própria classe.\\n\\n3. **Criar um Contexto para Executar as Operações**: Um contexto que irá utilizar as operações.\\n\\n4. **Utilizar Enum para as Operações**: Para evitar strings mágicas, podemos usar um Enum para as operações.\\n\\n### Código Refatorado\\n\\n```typescript\\n// Enum para operações\\nenum OperationType {\\n  ADD = \"add\",\\n  SUBTRACT = \"subtract\",\\n  MULTIPLY = \"multiply\",\\n  DIVIDE = \"divide\",\\n}\\n\\n// Interface para operações\\ninterface Operation {\\n  execute(a: number, b: number): number;\\n}\\n\\n// Implementação da operação de adição\\nclass Addition implements Operation {\\n  execute(a: number, b: number): number {\\n    return a + b;\\n  }\\n}\\n\\n// Implementação da operação de subtração\\nclass Subtraction implements Operation {\\n  execute(a: number, b: number): number {\\n    return a - b;\\n  }\\n}\\n\\n// Implementação da operação de multiplicação\\nclass Multiplication implements Operation {\\n  execute(a: number, b: number): number {\\n    return a * b;\\n  }\\n}\\n\\n// Implementação da operação de divisão\\nclass Division implements Operation {\\n  execute(a: number, b: number): number {\\n    return b !== 0 ? a / b : NaN;\\n  }\\n}\\n\\n// Contexto para executar operações\\nclass Calculator {\\n  private operation: Operation;\\n\\n  constructor(operation: Operation) {\\n    this.operation = operation;\\n  }\\n\\n  setOperation(operation: Operation) {\\n    this.operation = operation;\\n  }\\n\\n  calculate(a: number, b: number): number {\\n    return this.operation.execute(a, b);\\n  }\\n}\\n\\n// Função para obter a operação correta\\nfunction getOperation(op: OperationType): Operation {\\n  switch (op) {\\n    case OperationType.ADD:\\n      return new Addition();\\n    case OperationType.SUBTRACT:\\n      return new Subtraction();\\n    case OperationType.MULTIPLY:\\n      return new Multiplication();\\n    case OperationType.DIVIDE:\\n      return new Division();\\n    default:\\n      throw new Error(\"Operação inválida\");\\n  }\\n}\\n\\n// Uso\\nconst operationType = OperationType.ADD; // Pode ser alterado para qualquer operação\\nconst operation = getOperation(operationType);\\nconst calculator = new Calculator(operation);\\nconst result = calculator.calculate(5, 3);\\nconsole.log(\"Result:\", result);\\n```\\n\\n### Explicação da Solução\\n\\n1. **Princípio da Responsabilidade Única (SRP)**: Cada classe de operação tem uma única responsabilidade, que é realizar uma operação matemática específica. O `Calculator` é responsável por calcular usando a operação definida.\\n\\n2. **Princípio da Abertura/Fechamento (OCP)**: O código está aberto para extensão (podemos adicionar novas operações criando novas classes que implementam a interface `Operation`), mas fechado para modificação (não precisamos alterar o código existente para adicionar novas operações).\\n\\n3. **Princípio da Substituição de Liskov (LSP)**: Todas as classes que implementam a interface `Operation` podem ser usadas de forma intercambiável sem alterar o comportamento do programa.\\n\\n4. **Princípio da Segregação de Interfaces (ISP)**: A interface `Operation` é específica para operações matemáticas, evitando que classes implementem métodos que não utilizam.\\n\\n5. **Princípio da Inversão de Dependência (DIP)**: O `Calculator` depende da abstração `Operation` em vez de depender de classes concretas, permitindo uma maior flexibilidade e testabilidade.\\n\\n### Conclusão\\n\\nEssa refatoração não apenas melhora a legibilidade e a qualidade do código, mas também o torna mais modular e fácil de manter. A implementação de novas operações se torna uma tarefa simples, e o código segue as melhores práticas de engenharia de software.' additional_kwargs={'refusal': None} response_metadata={'token_usage': {'completion_tokens': 931, 'prompt_tokens': 284, 'total_tokens': 1215, 'completion_tokens_details': {'audio_tokens': None, 'reasoning_tokens': 0}, 'prompt_tokens_details': {'audio_tokens': None, 'cached_tokens': 0}}, 'model_name': 'gpt-4o-mini-2024-07-18', 'system_fingerprint': 'fp_74ba47b4ac', 'finish_reason': 'stop', 'logprobs': None} id='run-a256f251-c144-41cd-a136-5ad35b3bf1b1-0' usage_metadata={'input_tokens': 284, 'output_tokens': 931, 'total_tokens': 1215, 'input_token_details': {'cache_read': 0}, 'output_token_details': {'reasoning': 0}}\n"
     ]
    }
   ],
   "source": [
    "result = llm.invoke(message)\n",
    "print(result)"
   ]
  }
 ],
 "metadata": {
  "kernelspec": {
   "display_name": "venv",
   "language": "python",
   "name": "python3"
  },
  "language_info": {
   "codemirror_mode": {
    "name": "ipython",
    "version": 3
   },
   "file_extension": ".py",
   "mimetype": "text/x-python",
   "name": "python",
   "nbconvert_exporter": "python",
   "pygments_lexer": "ipython3",
   "version": "3.10.12"
  }
 },
 "nbformat": 4,
 "nbformat_minor": 2
}

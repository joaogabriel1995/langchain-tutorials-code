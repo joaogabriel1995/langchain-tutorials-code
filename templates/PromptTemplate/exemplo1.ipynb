{
 "cells": [
  {
   "cell_type": "code",
   "execution_count": 44,
   "metadata": {},
   "outputs": [],
   "source": [
    "#exemplo1.py\n",
    "from langchain import PromptTemplate\n",
    "from langchain_openai import ChatOpenAI\n",
    "import os\n",
    "from dotenv import load_dotenv  "
   ]
  },
  {
   "cell_type": "code",
   "execution_count": 45,
   "metadata": {},
   "outputs": [],
   "source": [
    "load_dotenv(dotenv_path=\"../.env\")\n",
    "OPENAI_MODEL_NAME = os.getenv('OPENAI_MODEL_NAME')"
   ]
  },
  {
   "cell_type": "code",
   "execution_count": 46,
   "metadata": {},
   "outputs": [],
   "source": [
    "llm = ChatOpenAI(temperature=0, model=OPENAI_MODEL_NAME)"
   ]
  },
  {
   "cell_type": "code",
   "execution_count": 47,
   "metadata": {},
   "outputs": [],
   "source": [
    "\n",
    "template_text = '''Você é um programador altamente experiente, com mais de 20 anos de carreira em \n",
    "desenvolvimento de software. Seu conhecimento abrange profundamente as melhores práticas de engenharia \n",
    "de software, incluindo os princípios SOLID, Clean Architecture, TDD, e design patterns. Sua experiência \n",
    "inclui linguagens como {programming_language}, e você tem um rigoroso compromisso com a qualidade do código, \n",
    "mantendo-o sustentável, legível e de fácil manutenção. Sempre prioriza a implementação de código limpo, \n",
    "modular e escalável. Considere também as tecnologias e frameworks que você domina, como {technologies}, \n",
    "ao elaborar a solução. Por favor, explique a solução em detalhes, considerando as seguintes diretrizes: \n",
    "Explique como sua solução mantém conformidade com os princípios SOLID.\n",
    "\n",
    "{question}\n",
    "'''"
   ]
  },
  {
   "cell_type": "code",
   "execution_count": 48,
   "metadata": {},
   "outputs": [],
   "source": [
    "prompt = PromptTemplate(input_variables=[\"programming_language\", \"technologies\", \"question\"], template=template_text)"
   ]
  },
  {
   "cell_type": "code",
   "execution_count": 49,
   "metadata": {},
   "outputs": [],
   "source": [
    "question = '''\n",
    "function calculate(a: number, b: number, op: string) {\n",
    "  if (op === \"add\") return a + b;\n",
    "  else if (op === \"subtract\") return a - b;\n",
    "  else if (op === \"multiply\") return a * b;\n",
    "  else if (op === \"divide\") return b !== 0 ? a / b : NaN;\n",
    "  else return NaN;\n",
    "}\n",
    "const result = calculate(5, 3, \"add\");\n",
    "console.log(\"Result:\", result);\n",
    "\n",
    "\n",
    "Como poderia melhorar a qualidade, legibilidade desse codigo acima.\n",
    "'''"
   ]
  },
  {
   "cell_type": "code",
   "execution_count": 52,
   "metadata": {},
   "outputs": [],
   "source": [
    "message = prompt.format(programming_language=\"typescript\", technologies=\"NestJS\", question=question)"
   ]
  },
  {
   "cell_type": "code",
   "execution_count": 53,
   "metadata": {},
   "outputs": [
    {
     "name": "stdout",
     "output_type": "stream",
     "text": [
      "content='Para melhorar a qualidade e a legibilidade do código fornecido, podemos aplicar os princípios SOLID, especialmente o Princípio da Responsabilidade Única (SRP) e o Princípio da Inversão de Dependência (DIP). Além disso, podemos utilizar o padrão de projeto Strategy para encapsular as operações matemáticas. Isso tornará o código mais modular, escalável e fácil de manter.\\n\\n### Refatoração do Código\\n\\n1. **Criar uma Interface para Operações**: Vamos definir uma interface que todas as operações matemáticas devem implementar.\\n\\n2. **Implementar Classes para Cada Operação**: Cada operação (adição, subtração, multiplicação, divisão) será encapsulada em sua própria classe.\\n\\n3. **Criar um Contexto para Executar as Operações**: Um contexto que usará a interface para executar a operação desejada.\\n\\n### Código Refatorado\\n\\n```typescript\\n// Definindo a interface para operações\\ninterface Operation {\\n  execute(a: number, b: number): number;\\n}\\n\\n// Implementando a operação de Adição\\nclass Addition implements Operation {\\n  execute(a: number, b: number): number {\\n    return a + b;\\n  }\\n}\\n\\n// Implementando a operação de Subtração\\nclass Subtraction implements Operation {\\n  execute(a: number, b: number): number {\\n    return a - b;\\n  }\\n}\\n\\n// Implementando a operação de Multiplicação\\nclass Multiplication implements Operation {\\n  execute(a: number, b: number): number {\\n    return a * b;\\n  }\\n}\\n\\n// Implementando a operação de Divisão\\nclass Division implements Operation {\\n  execute(a: number, b: number): number {\\n    if (b === 0) {\\n      throw new Error(\"Divisão por zero não é permitida.\");\\n    }\\n    return a / b;\\n  }\\n}\\n\\n// Contexto para executar operações\\nclass Calculator {\\n  private operation: Operation;\\n\\n  constructor(operation: Operation) {\\n    this.operation = operation;\\n  }\\n\\n  setOperation(operation: Operation) {\\n    this.operation = operation;\\n  }\\n\\n  calculate(a: number, b: number): number {\\n    return this.operation.execute(a, b);\\n  }\\n}\\n\\n// Uso do código\\nconst calculator = new Calculator(new Addition());\\nconst result = calculator.calculate(5, 3);\\nconsole.log(\"Resultado:\", result);\\n\\n// Mudando a operação para Subtração\\ncalculator.setOperation(new Subtraction());\\nconst resultSubtraction = calculator.calculate(5, 3);\\nconsole.log(\"Resultado da Subtração:\", resultSubtraction);\\n```\\n\\n### Explicação da Solução\\n\\n1. **Princípio da Responsabilidade Única (SRP)**: Cada classe de operação tem uma única responsabilidade, que é realizar uma operação matemática específica. Isso facilita a manutenção e a extensão do código.\\n\\n2. **Princípio da Inversão de Dependência (DIP)**: O `Calculator` depende da abstração (`Operation`) em vez de depender de implementações concretas. Isso permite que novas operações sejam adicionadas sem modificar o código existente.\\n\\n3. **Modularidade e Escalabilidade**: O uso de classes separadas para cada operação permite que o código seja facilmente escalável. Se quisermos adicionar uma nova operação, como exponenciação, podemos simplesmente criar uma nova classe que implementa a interface `Operation`.\\n\\n4. **Tratamento de Erros**: A classe `Division` agora lança um erro se houver uma tentativa de divisão por zero, em vez de retornar `NaN`, o que é uma prática melhor em termos de tratamento de erros.\\n\\n5. **Legibilidade**: O código agora é mais legível e fácil de entender, pois cada parte do código tem um propósito claro e bem definido.\\n\\n### Conclusão\\n\\nEssa refatoração não apenas melhora a qualidade e a legibilidade do código, mas também o torna mais alinhado com as melhores práticas de engenharia de software, facilitando a manutenção e a extensão futura.' additional_kwargs={'refusal': None} response_metadata={'token_usage': {'completion_tokens': 811, 'prompt_tokens': 284, 'total_tokens': 1095, 'completion_tokens_details': {'audio_tokens': None, 'reasoning_tokens': 0}, 'prompt_tokens_details': {'audio_tokens': None, 'cached_tokens': 0}}, 'model_name': 'gpt-4o-mini-2024-07-18', 'system_fingerprint': 'fp_f85bea6784', 'finish_reason': 'stop', 'logprobs': None} id='run-ae166492-6bc4-46db-80a7-ff1eb29af7d3-0' usage_metadata={'input_tokens': 284, 'output_tokens': 811, 'total_tokens': 1095, 'input_token_details': {'cache_read': 0}, 'output_token_details': {'reasoning': 0}}\n"
     ]
    }
   ],
   "source": [
    "result = llm.invoke(message)\n",
    "print(result)"
   ]
  }
 ],
 "metadata": {
  "kernelspec": {
   "display_name": "venv",
   "language": "python",
   "name": "python3"
  },
  "language_info": {
   "codemirror_mode": {
    "name": "ipython",
    "version": 3
   },
   "file_extension": ".py",
   "mimetype": "text/x-python",
   "name": "python",
   "nbconvert_exporter": "python",
   "pygments_lexer": "ipython3",
   "version": "3.10.12"
  }
 },
 "nbformat": 4,
 "nbformat_minor": 2
}

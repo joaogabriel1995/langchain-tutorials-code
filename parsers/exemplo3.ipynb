{
 "cells": [
  {
   "cell_type": "code",
   "execution_count": 77,
   "metadata": {},
   "outputs": [],
   "source": [
    "from langchain.output_parsers import ResponseSchema, StructuredOutputParser\n",
    "from langchain.chat_models import ChatOpenAI\n",
    "from langchain_core.prompts import ChatPromptTemplate\n",
    "from dotenv import load_dotenv\n",
    "import os\n",
    "from pprint import pprint"
   ]
  },
  {
   "cell_type": "code",
   "execution_count": 78,
   "metadata": {},
   "outputs": [],
   "source": [
    "load_dotenv()\n",
    "OPENAI_MODEL_NAME = os.getenv(\"OPENAI_MODEL_NAME\")\n",
    "llm = ChatOpenAI(temperature=0, model=OPENAI_MODEL_NAME)"
   ]
  },
  {
   "cell_type": "code",
   "execution_count": 79,
   "metadata": {},
   "outputs": [],
   "source": [
    "# Texto que será analisado pela LLM\n",
    "content = \"LangChain é uma biblioteca que facilita o uso de modelos de linguagem em workflows complexos, integrando LLMs com APIs e bancos de dados.\"\n"
   ]
  },
  {
   "cell_type": "code",
   "execution_count": 80,
   "metadata": {},
   "outputs": [],
   "source": [
    "# Definindo o esquema de resposta\n",
    "resumo_schema = ResponseSchema(name=\"resumo\", description=\"Um resumo do conteúdo.\")\n",
    "opiniao_schema = ResponseSchema(name=\"opiniao\", description=\"A opinião do modelo sobre o conteúdo.\")"
   ]
  },
  {
   "cell_type": "code",
   "execution_count": 81,
   "metadata": {},
   "outputs": [],
   "source": [
    "# Criando um parser estruturado com base nos schemas definidos\n",
    "output_parser = StructuredOutputParser.from_response_schemas([resumo_schema, opiniao_schema])\n"
   ]
  },
  {
   "cell_type": "code",
   "execution_count": 82,
   "metadata": {},
   "outputs": [],
   "source": [
    "# Definindo instruções de formato para o modelo seguir\n",
    "format_instructions = output_parser.get_format_instructions()"
   ]
  },
  {
   "cell_type": "code",
   "execution_count": 83,
   "metadata": {},
   "outputs": [],
   "source": [
    "# template que iremos utilizar.\n",
    "template_with_output_format = ''' Você é um leitor que tem grandes habilidades de resumir e opinar sobre oque foi abordado no conteudo.\n",
    "    {content}\n",
    "    resumo: String - Um resumo contendo no máximo 200 palavras.\\\n",
    "    opiniao: String - O ponto principal do comentário, contendo no máximo 50 palavras.\\\n",
    "    Escreva a resposta em formato JSON com as seguintes propriedades: resumo, opiniao.\\\n",
    "    {format_instructions}\n",
    "'''"
   ]
  },
  {
   "cell_type": "code",
   "execution_count": 84,
   "metadata": {},
   "outputs": [
    {
     "data": {
      "text/plain": [
       "ChatPromptTemplate(input_variables=['content', 'format_instructions'], input_types={}, partial_variables={}, messages=[HumanMessagePromptTemplate(prompt=PromptTemplate(input_variables=['content', 'format_instructions'], input_types={}, partial_variables={}, template=' Você é um leitor que tem grandes habilidades de resumir e opinar sobre oque foi abordado no conteudo.\\n    {content}\\n    resumo: String - Um resumo contendo no máximo 200 palavras.    opiniao: String - O ponto principal do comentário, contendo no máximo 50 palavras.    Escreva a resposta em formato JSON com as seguintes propriedades: resumo, opiniao.    {format_instructions}\\n'), additional_kwargs={})])"
      ]
     },
     "execution_count": 84,
     "metadata": {},
     "output_type": "execute_result"
    }
   ],
   "source": [
    "prompt_template = ChatPromptTemplate.from_template(\n",
    "    template=template_with_output_format,\n",
    ")\n",
    "prompt_template"
   ]
  },
  {
   "cell_type": "code",
   "execution_count": 85,
   "metadata": {},
   "outputs": [],
   "source": [
    "prompt =prompt_template.format(content=content, format_instructions=format_instructions)"
   ]
  },
  {
   "cell_type": "code",
   "execution_count": 86,
   "metadata": {},
   "outputs": [],
   "source": [
    "response = llm.invoke(prompt)"
   ]
  },
  {
   "cell_type": "code",
   "execution_count": 87,
   "metadata": {},
   "outputs": [
    {
     "data": {
      "text/plain": [
       "'LangChain é uma ferramenta valiosa para desenvolvedores que desejam integrar LLMs em suas aplicações, otimizando processos e ampliando as possibilidades de uso da IA.'"
      ]
     },
     "execution_count": 87,
     "metadata": {},
     "output_type": "execute_result"
    }
   ],
   "source": [
    "output_json = output_parser.parse(response.content)\n",
    "output_json[\"opiniao\"]"
   ]
  },
  {
   "cell_type": "code",
   "execution_count": null,
   "metadata": {},
   "outputs": [],
   "source": []
  }
 ],
 "metadata": {
  "kernelspec": {
   "display_name": "venv",
   "language": "python",
   "name": "python3"
  },
  "language_info": {
   "codemirror_mode": {
    "name": "ipython",
    "version": 3
   },
   "file_extension": ".py",
   "mimetype": "text/x-python",
   "name": "python",
   "nbconvert_exporter": "python",
   "pygments_lexer": "ipython3",
   "version": "3.10.12"
  }
 },
 "nbformat": 4,
 "nbformat_minor": 2
}
